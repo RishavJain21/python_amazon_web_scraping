{
 "cells": [
  {
   "cell_type": "code",
   "execution_count": 1,
   "metadata": {},
   "outputs": [],
   "source": [
    "\n",
    "from selenium import webdriver\n",
    "from selenium.webdriver.chrome.service import Service as ChromeService\n",
    "from webdriver_manager.chrome import ChromeDriverManager\n",
    "from selenium.webdriver.common.by import By\n",
    "from bs4 import BeautifulSoup"
   ]
  },
  {
   "cell_type": "code",
   "execution_count": 2,
   "metadata": {},
   "outputs": [],
   "source": [
    "options=webdriver.ChromeOptions()\n",
    "options.add_experimental_option('prefs',{\n",
    "    \"download.default_directory\":\"D:\\PDF\",\n",
    "    \"download.prompt_for_download\":False,\n",
    "    \"plugins.always_open_pdf_externally\":False\n",
    "})\n"
   ]
  },
  {
   "cell_type": "code",
   "execution_count": 3,
   "metadata": {},
   "outputs": [],
   "source": [
    "link = \"https://www.amazon.in/s?k=bags&crid=2M096C61O4MLT&qid=1653308124&sprefix=ba%2Caps%2C283&ref=sr_pg_1\"\n",
    "link_0=\"https://www.amazon.in/s?k=bags&page=\"\n",
    "link_1=\"&crid=2M096C61O4MLT&qid=1685068681&sprefix=ba%2Caps%2C283&ref=sr_pg_2\""
   ]
  },
  {
   "cell_type": "code",
   "execution_count": 4,
   "metadata": {},
   "outputs": [],
   "source": [
    "driver= webdriver.Chrome(service=ChromeService(ChromeDriverManager().install()),options=options)\n",
    "i=1\n",
    "products=[]\n",
    "while(i<=20):\n",
    "    link=link_0+str(i)+link_1\n",
    "    driver.get(link)\n",
    "    page_source=driver.page_source\n",
    "    soup = BeautifulSoup(page_source, 'html.parser')\n",
    "    divs=soup.find_all('div',class_='s-title-instructions-style')\n",
    "    for div in divs :\n",
    "        a={}\n",
    "\n",
    "        a['name']=div.text\n",
    "\n",
    "        a['url']='https://amazon.in'+div.find('a').get('href')\n",
    "\n",
    "        price=div.parent.find('span',class_='a-offscreen')\n",
    "        if(price!=None):\n",
    "            a['price']=price.text\n",
    "\n",
    "        rating=div.parent.find('span',class_='a-icon-alt')\n",
    "        if(rating!=None) :\n",
    "            a['rating']=rating.text\n",
    "\n",
    "        nReviews=div.parent.find('span',class_='a-size-base')\n",
    "        if(nReviews!=None):\n",
    "            a['nReviews']=nReviews.text\n",
    "\n",
    "        products.append(a)    \n",
    "        \n",
    "    i+=1    \n",
    "driver.close()\n"
   ]
  },
  {
   "cell_type": "code",
   "execution_count": 8,
   "metadata": {},
   "outputs": [],
   "source": [
    "products_refined=[]\n",
    "for product in products:\n",
    "    if product['url']!='https://amazon.injavascript:void(0)':\n",
    "        products_refined.append(product)"
   ]
  },
  {
   "cell_type": "code",
   "execution_count": 10,
   "metadata": {},
   "outputs": [
    {
     "data": {
      "text/plain": [
       "dtype('O')"
      ]
     },
     "execution_count": 10,
     "metadata": {},
     "output_type": "execute_result"
    }
   ],
   "source": [
    "import pandas as pd\n",
    "df=pd.DataFrame(products_refined)\n",
    "df.to_csv('file1.csv')"
   ]
  },
  {
   "cell_type": "code",
   "execution_count": null,
   "metadata": {},
   "outputs": [],
   "source": []
  }
 ],
 "metadata": {
  "kernelspec": {
   "display_name": "Python 3",
   "language": "python",
   "name": "python3"
  },
  "language_info": {
   "codemirror_mode": {
    "name": "ipython",
    "version": 3
   },
   "file_extension": ".py",
   "mimetype": "text/x-python",
   "name": "python",
   "nbconvert_exporter": "python",
   "pygments_lexer": "ipython3",
   "version": "3.9.6"
  },
  "orig_nbformat": 4
 },
 "nbformat": 4,
 "nbformat_minor": 2
}
